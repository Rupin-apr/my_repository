{
 "cells": [
  {
   "cell_type": "code",
   "execution_count": null,
   "metadata": {},
   "outputs": [],
   "source": [
    "import os\n",
    "import pandas as pd\n",
    "directory='/home/ibab/Pictures/sepsis/sofa_scoring_sample'\n",
    "\n",
    "for filename in os.listdir(directory):\n",
    "    if filename.endswith(\".psv\"):\n",
    "        data=pd.read_table(filename, sep='|', engine='python')\n",
    "        result_qsofa = []\n",
    "        for a,b in zip(data[\"HR\"], data[\"SBP\"]): \n",
    "            if a>=22 and b<=100: \n",
    "                result_qsofa.append(1)\n",
    "            else:\n",
    "                result_qsofa.append(0)\n",
    "        data[\"qSOFA\"]=result_qsofa\n",
    "\n",
    "#sofa scoring\n",
    "#Platelets < 100\n",
    "#bilurubin_total >= 2\n",
    "#Creatinine >= 2\n",
    "        result_sofa= []\n",
    "        for a,b,c in zip(data[\"Platelets\"], data[\"Bilirubin_total\"],data[\"Creatinine\"]): \n",
    "            if a>100 and b>=2 and c>=2: \n",
    "                result_sofa.append(1)\n",
    "            else:\n",
    "                result_sofa.append(0)\n",
    "        data[\"SOFA\"]=result_sofa\n",
    "        print(data)\n",
    "        data.to_csv(filename)\n",
    "        "
   ]
  }
 ],
 "metadata": {
  "kernelspec": {
   "display_name": "Python 3",
   "language": "python",
   "name": "python3"
  },
  "language_info": {
   "codemirror_mode": {
    "name": "ipython",
    "version": 3
   },
   "file_extension": ".py",
   "mimetype": "text/x-python",
   "name": "python",
   "nbconvert_exporter": "python",
   "pygments_lexer": "ipython3",
   "version": "3.7.1"
  }
 },
 "nbformat": 4,
 "nbformat_minor": 2
}
